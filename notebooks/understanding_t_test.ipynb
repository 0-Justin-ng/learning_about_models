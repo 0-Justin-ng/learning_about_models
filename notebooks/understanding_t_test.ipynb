{
 "cells": [
  {
   "cell_type": "code",
   "execution_count": 2,
   "metadata": {},
   "outputs": [],
   "source": [
    "from matplotlib import pyplot as plt\n",
    "from math import gamma, sqrt, pi\n",
    "import numpy as np"
   ]
  },
  {
   "cell_type": "code",
   "execution_count": 3,
   "metadata": {},
   "outputs": [],
   "source": [
    "def t_distribution(x, dof):\n",
    "    \"\"\"\n",
    "    Takes an array of values and the degrees of freedom,\n",
    "    returns the y values for the probability density function of\n",
    "    the t_distribution. \n",
    "    \"\"\"\n",
    "    right = gamma((dof+1)/2) / (sqrt(dof*pi)*gamma(dof/2))\n",
    "    left = (1 + ((x**2)/dof))**(-((dof+1)/2))\n",
    "\n",
    "    return right*left"
   ]
  },
  {
   "cell_type": "code",
   "execution_count": 14,
   "metadata": {},
   "outputs": [],
   "source": [
    "# Generates the t-distribution. \n",
    "\n",
    "x_test = np.linspace(-4,4,num=100)\n",
    "\n",
    "y_test = [\n",
    "    t_distribution(x,10)\n",
    "    for x in\n",
    "    x_test\n",
    "]\n"
   ]
  },
  {
   "cell_type": "markdown",
   "metadata": {},
   "source": [
    "> Help to visualize what is happening in a t-test. A distribution is defined by its probability density function (pdf) and this function is represented in the `t_distribution` method above. As the degrees of freedom increase the t-distribution approaches the normal distribution with mean of 0 and variance of 1. \n",
    "<br><br> To run a t-test you compare the t-statistic you calculate for a parameter to the t-distribution and see how likely this value is to occur due to random chance. The t-statistic itself is a measure of how different the reference and the estimation are. A one-tailed test is appropriate when you are trying to find out if a mean differs in one direction ex. Seeing if more than 1% of products are defective. A two-tailed test does not care about which direction the estimation deviates from the reference value. \n",
    "<br><br> Example of null hypothesis testing for a simple linear regression. \n",
    "<br><br> <center>$H_{0}$: $\\beta_{1} = 0$\n",
    "<br><br> $H_{a}$: $\\beta_{1} \\neq 0$</center>\n",
    "<br><br> We want to see if we can reject the null hypothesis of the parameter being equal to 0. To do this we can compute the t-statistic, by dividing the parameter by the standard error of the parameter. We then take |t| and use the t-distribution to find the cumulative probability of this t-statistic occurring, given $\\beta_{1} = 0$. \n",
    "<br><br> This cumulative probability is defined by the cumulative distribution function (cdf), which involves integrating the t-distribution from -∞ to t. These are the probability values in all those t-tables. This integration is hard to program efficiently and scipy already has an implementation for running t-tests in `scipy.stats.ttest_ind` for independent samples. \n",
    "<br><br> The p-value is 1 - the cumulative probability. Depending on the type of test the $\\alpha$ or $\\alpha/2$ (for two sided tests) is the threshold for rejecting the null hypothesis and is set arbitrarly. If the p-value is less than this threshold than one can reject the null hypothesis of the parameter being equal to 0.   "
   ]
  },
  {
   "cell_type": "code",
   "execution_count": 15,
   "metadata": {},
   "outputs": [
    {
     "data": {
      "text/plain": [
       "Text(0.5, 1.0, 'T-Distribution With 10 Degrees of Freedom.')"
      ]
     },
     "execution_count": 15,
     "metadata": {},
     "output_type": "execute_result"
    },
    {
     "data": {
      "image/png": "[encoded data removed]",
      "text/plain": [
       "<Figure size 432x288 with 1 Axes>"
      ]
     },
     "metadata": {
      "needs_background": "light"
     },
     "output_type": "display_data"
    }
   ],
   "source": [
    "plt.plot(x_test, y_test)\n",
    "plt.axvline(x = 2.5, color = 'r', label = 't = 2.5')\n",
    "plt.title('T-Distribution With 10 Degrees of Freedom.')\n"
   ]
  },
  {
   "cell_type": "code",
   "execution_count": null,
   "metadata": {},
   "outputs": [],
   "source": []
  }
 ],
 "metadata": {
  "kernelspec": {
   "display_name": "Python 3.8.10 64-bit",
   "language": "python",
   "name": "python3"
  },
  "language_info": {
   "codemirror_mode": {
    "name": "ipython",
    "version": 3
   },
   "file_extension": ".py",
   "mimetype": "text/x-python",
   "name": "python",
   "nbconvert_exporter": "python",
   "pygments_lexer": "ipython3",
   "version": "3.8.10"
  },
  "orig_nbformat": 4,
  "vscode": {
   "interpreter": {
    "hash": "916dbcbb3f70747c44a77c7bcd40155683ae19c65e1c03b4aa3499c5328201f1"
   }
  }
 },
 "nbformat": 4,
 "nbformat_minor": 2
}
